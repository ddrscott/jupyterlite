{
  "cells": [
    {
      "cell_type": "code",
      "execution_count": null,
      "id": "609937fa-50ee-4df1-b2bc-7806eee84b44",
      "metadata": {
        "trusted": true
      },
      "outputs": [],
      "source": [
        "%pip install duckdb pandas magic-duckdb\n",
        "import pandas as pd\n",
        "import magic_duckdb\n",
        "magic_duckdb.MAGIC_NAME = \"sql\"\n",
        "%load_ext magic_duckdb\n",
        "%sql set python_scan_all_frames = True;"
      ]
    }
  ],
  "metadata": {
    "kernelspec": {
      "display_name": "Python (Pyodide)",
      "language": "python",
      "name": "python"
    },
    "language_info": {
      "codemirror_mode": {
        "name": "python",
        "version": 3
      },
      "file_extension": ".py",
      "mimetype": "text/x-python",
      "name": "python",
      "nbconvert_exporter": "python",
      "pygments_lexer": "ipython3",
      "version": "3.8"
    }
  },
  "nbformat": 4,
  "nbformat_minor": 5
}
