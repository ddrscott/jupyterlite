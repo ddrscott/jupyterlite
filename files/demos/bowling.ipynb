{
  "metadata": {
    "kernelspec": {
      "display_name": "Python (Pyodide)",
      "language": "python",
      "name": "python"
    },
    "language_info": {
      "codemirror_mode": {
        "name": "python",
        "version": 3
      },
      "file_extension": ".py",
      "mimetype": "text/x-python",
      "name": "python",
      "nbconvert_exporter": "python",
      "pygments_lexer": "ipython3",
      "version": "3.8"
    }
  },
  "nbformat_minor": 5,
  "nbformat": 4,
  "cells": [
    {
      "id": "609937fa-50ee-4df1-b2bc-7806eee84b44",
      "cell_type": "code",
      "source": "%pip install duckdb pandas magic-duckdb\nimport pandas as pd\nimport magic_duckdb\nmagic_duckdb.MAGIC_NAME = \"sql\"\n%load_ext magic_duckdb\n%sql set python_scan_all_frames = True;",
      "metadata": {
        "trusted": true
      },
      "outputs": [
        {
          "execution_count": 1,
          "output_type": "execute_result",
          "data": {
            "text/plain": "Empty DataFrame\nColumns: [Success]\nIndex: []",
            "text/html": "<div>\n<style scoped>\n    .dataframe tbody tr th:only-of-type {\n        vertical-align: middle;\n    }\n\n    .dataframe tbody tr th {\n        vertical-align: top;\n    }\n\n    .dataframe thead th {\n        text-align: right;\n    }\n</style>\n<table border=\"1\" class=\"dataframe\">\n  <thead>\n    <tr style=\"text-align: right;\">\n      <th></th>\n      <th>Success</th>\n    </tr>\n  </thead>\n  <tbody>\n  </tbody>\n</table>\n</div>"
          },
          "metadata": {}
        }
      ],
      "execution_count": 1
    },
    {
      "id": "c7e63b18-13bc-489d-bd4c-86b273b38fa4",
      "cell_type": "code",
      "source": "%%sql\n\nDROP TABLE IF EXISTS game_rolls;\n\nCREATE TABLE game_rolls (\n    game int,\n    frame int,\n    roll int,\n    pins int\n);",
      "metadata": {
        "trusted": true
      },
      "outputs": [
        {
          "execution_count": 2,
          "output_type": "execute_result",
          "data": {
            "text/plain": "Empty DataFrame\nColumns: [Count]\nIndex: []",
            "text/html": "<div>\n<style scoped>\n    .dataframe tbody tr th:only-of-type {\n        vertical-align: middle;\n    }\n\n    .dataframe tbody tr th {\n        vertical-align: top;\n    }\n\n    .dataframe thead th {\n        text-align: right;\n    }\n</style>\n<table border=\"1\" class=\"dataframe\">\n  <thead>\n    <tr style=\"text-align: right;\">\n      <th></th>\n      <th>Count</th>\n    </tr>\n  </thead>\n  <tbody>\n  </tbody>\n</table>\n</div>"
          },
          "metadata": {}
        }
      ],
      "execution_count": 2
    },
    {
      "id": "03334a30-3a33-479a-8f60-187e1b882d83",
      "cell_type": "code",
      "source": "%%sql\n\n-- Perfect Game\n-- Total: 300\nINSERT INTO game_rolls (game, frame, roll, pins)\nVALUES\n(1,  1, 1, 10),\n(1,  2, 1, 10),\n(1,  3, 1, 10),\n(1,  4, 1, 10),\n(1,  5, 1, 10),\n(1,  6, 1, 10),\n(1,  7, 1, 10),\n(1,  8, 1, 10),\n(1,  9, 1, 10),\n(1, 10, 1, 10),\n(1, 10, 2, 10),\n(1, 10, 3, 10);",
      "metadata": {
        "trusted": true
      },
      "outputs": [
        {
          "execution_count": 3,
          "output_type": "execute_result",
          "data": {
            "text/plain": "   Count\n0     12",
            "text/html": "<div>\n<style scoped>\n    .dataframe tbody tr th:only-of-type {\n        vertical-align: middle;\n    }\n\n    .dataframe tbody tr th {\n        vertical-align: top;\n    }\n\n    .dataframe thead th {\n        text-align: right;\n    }\n</style>\n<table border=\"1\" class=\"dataframe\">\n  <thead>\n    <tr style=\"text-align: right;\">\n      <th></th>\n      <th>Count</th>\n    </tr>\n  </thead>\n  <tbody>\n    <tr>\n      <th>0</th>\n      <td>12</td>\n    </tr>\n  </tbody>\n</table>\n</div>"
          },
          "metadata": {}
        }
      ],
      "execution_count": 3
    },
    {
      "id": "eb91c245-f411-4cb0-86d3-4cf4413d43fb",
      "cell_type": "code",
      "source": "%%sql\n\nWITH stats AS (\n    SELECT\n        *,\n        COALESCE(LEAD(pins, 1) OVER (w), 0)              AS next_pins,\n        COALESCE(LEAD(pins, 2) OVER (w), 0)              AS next_next_pins,\n        roll = 1 AND pins = 10                           AS is_strike,\n        roll = 2 AND (pins + LAG(pins, 1) OVER (w) = 10) AS is_spare,\n        frame = (max(frame) OVER (PARTITION BY game))    AS is_last_frame\n    FROM game_rolls\n    WINDOW w AS (PARTITION BY game ORDER BY game, frame, roll)\n),\nscores AS (\n    SELECT\n        *,\n        CASE\n            WHEN is_last_frame THEN pins\n            WHEN is_strike     THEN pins + next_pins + next_next_pins \n            WHEN is_spare      THEN pins + next_pins\n        ELSE\n            pins\n        END\n        AS score\n    FROM stats\n),\nsums AS (\n    -- Note: This CTE will get optimized away by the query planner.\n    -- Nothing is calling it, and we can choose which to call in the final query.\n    SELECT\n        game,\n        SUM(score)\n    FROM scores\n    GROUP BY game\n),\ncumulative_scores AS (\n    SELECT\n        *,\n        SUM(score) OVER (w) AS cumulative_score,\n        CASE\n            WHEN is_strike THEN 'X'\n            WHEN is_spare  THEN '  /'\n        ELSE REPEAT('  ', roll - 1) || pins\n        END display\n    FROM scores\n    WINDOW w AS (PARTITION BY game ORDER BY game, frame, roll)\n)\nSELECT\n    game,\n    frame,\n    display,\n    cumulative_score\nFROM cumulative_scores\n;\n",
      "metadata": {
        "trusted": true
      },
      "outputs": [
        {
          "execution_count": 4,
          "output_type": "execute_result",
          "data": {
            "text/plain": "    game  frame display  cumulative_score\n0      1      1       X              30.0\n1      1      2       X              60.0\n2      1      3       X              90.0\n3      1      4       X             120.0\n4      1      5       X             150.0\n5      1      6       X             180.0\n6      1      7       X             210.0\n7      1      8       X             240.0\n8      1      9       X             270.0\n9      1     10       X             280.0\n10     1     10      10             290.0\n11     1     10      10             300.0",
            "text/html": "<div>\n<style scoped>\n    .dataframe tbody tr th:only-of-type {\n        vertical-align: middle;\n    }\n\n    .dataframe tbody tr th {\n        vertical-align: top;\n    }\n\n    .dataframe thead th {\n        text-align: right;\n    }\n</style>\n<table border=\"1\" class=\"dataframe\">\n  <thead>\n    <tr style=\"text-align: right;\">\n      <th></th>\n      <th>game</th>\n      <th>frame</th>\n      <th>display</th>\n      <th>cumulative_score</th>\n    </tr>\n  </thead>\n  <tbody>\n    <tr>\n      <th>0</th>\n      <td>1</td>\n      <td>1</td>\n      <td>X</td>\n      <td>30.0</td>\n    </tr>\n    <tr>\n      <th>1</th>\n      <td>1</td>\n      <td>2</td>\n      <td>X</td>\n      <td>60.0</td>\n    </tr>\n    <tr>\n      <th>2</th>\n      <td>1</td>\n      <td>3</td>\n      <td>X</td>\n      <td>90.0</td>\n    </tr>\n    <tr>\n      <th>3</th>\n      <td>1</td>\n      <td>4</td>\n      <td>X</td>\n      <td>120.0</td>\n    </tr>\n    <tr>\n      <th>4</th>\n      <td>1</td>\n      <td>5</td>\n      <td>X</td>\n      <td>150.0</td>\n    </tr>\n    <tr>\n      <th>5</th>\n      <td>1</td>\n      <td>6</td>\n      <td>X</td>\n      <td>180.0</td>\n    </tr>\n    <tr>\n      <th>6</th>\n      <td>1</td>\n      <td>7</td>\n      <td>X</td>\n      <td>210.0</td>\n    </tr>\n    <tr>\n      <th>7</th>\n      <td>1</td>\n      <td>8</td>\n      <td>X</td>\n      <td>240.0</td>\n    </tr>\n    <tr>\n      <th>8</th>\n      <td>1</td>\n      <td>9</td>\n      <td>X</td>\n      <td>270.0</td>\n    </tr>\n    <tr>\n      <th>9</th>\n      <td>1</td>\n      <td>10</td>\n      <td>X</td>\n      <td>280.0</td>\n    </tr>\n    <tr>\n      <th>10</th>\n      <td>1</td>\n      <td>10</td>\n      <td>10</td>\n      <td>290.0</td>\n    </tr>\n    <tr>\n      <th>11</th>\n      <td>1</td>\n      <td>10</td>\n      <td>10</td>\n      <td>300.0</td>\n    </tr>\n  </tbody>\n</table>\n</div>"
          },
          "metadata": {}
        }
      ],
      "execution_count": 4
    }
  ]
}